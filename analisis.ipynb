{
 "cells": [
  {
   "cell_type": "code",
   "execution_count": 10,
   "metadata": {},
   "outputs": [],
   "source": [
    "import pandas as pd\n",
    "import numpy as np"
   ]
  },
  {
   "cell_type": "code",
   "execution_count": 11,
   "metadata": {},
   "outputs": [],
   "source": [
    "clientes_data = r'C:\\Users\\punto\\Desktop\\Bienestar_animal_ibague\\Bienestar_animal_ibague\\Clientes.csv'"
   ]
  },
  {
   "cell_type": "code",
   "execution_count": 12,
   "metadata": {},
   "outputs": [
    {
     "name": "stdout",
     "output_type": "stream",
     "text": [
      "         #                 ID                   Nombre           Telefono  \\\n",
      "0        1             000000                  VANESSA                NaN   \n",
      "1        2               0097              YURI GUZMAN                NaN   \n",
      "2        3            0886963  JHOANA  MARIA RODRIGUEZ         3237210662   \n",
      "3        4                  1               Nura Amaya         3208354373   \n",
      "4        5         1000001500      David Matias Zabala         3186967130   \n",
      "...    ...                ...                      ...                ...   \n",
      "9863  9864            9873414    LEONARDO FAVIO TORRES         3176426219   \n",
      "9864  9865          987456321           Arelis  Tapora         3013561244   \n",
      "9865  9866               olkp                       Ko                NaN   \n",
      "9866  9867  P530-240-66-874-0            Fátima Pineda  +1 (305) 922-0949   \n",
      "9867  9868         particular          Daniela Santana         3183823376   \n",
      "\n",
      "                                       Direccion                 Correo  \\\n",
      "0                                            NaN                    NaN   \n",
      "1                                            NaN                    NaN   \n",
      "2                               CLL 18  N 3 /119                    NaN   \n",
      "3                                            NaN                    NaN   \n",
      "4                                   MZ E CASA 20                    NaN   \n",
      "...                                          ...                    ...   \n",
      "9863                                  CR9 N79/00                    NaN   \n",
      "9864                                      HONDA                     NaN   \n",
      "9865                                         NaN                    NaN   \n",
      "9866  1411 NW 116 TH ST MIAMI FLORIDA 33167-3215  Britney0912@yahoo.con   \n",
      "9867                CRA   4 ESTADIO NUMERO 39-52  dichilatras@ut.edu.co   \n",
      "\n",
      "             Whatsapp  \n",
      "0                 NaN  \n",
      "1        573245652587  \n",
      "2        573237210662  \n",
      "3          3208354373  \n",
      "4        573186967130  \n",
      "...               ...  \n",
      "9863     573176426219  \n",
      "9864     573013561244  \n",
      "9865              NaN  \n",
      "9866  +1 305-922-0949  \n",
      "9867  +57 318 3823376  \n",
      "\n",
      "[9868 rows x 7 columns]\n"
     ]
    }
   ],
   "source": [
    "clientes = pd.read_csv(clientes_data)\n",
    "print (clientes)"
   ]
  },
  {
   "cell_type": "code",
   "execution_count": 13,
   "metadata": {},
   "outputs": [
    {
     "name": "stdout",
     "output_type": "stream",
     "text": [
      "          #     ID  Nombre  Telefono  Direccion  Correo  Whatsapp\n",
      "0     False  False   False      True       True    True      True\n",
      "1     False  False   False      True       True    True     False\n",
      "2     False  False   False     False      False    True     False\n",
      "3     False  False   False     False       True    True     False\n",
      "4     False  False   False     False      False    True     False\n",
      "...     ...    ...     ...       ...        ...     ...       ...\n",
      "9863  False  False   False     False      False    True     False\n",
      "9864  False  False   False     False      False    True     False\n",
      "9865  False  False   False      True       True    True      True\n",
      "9866  False  False   False     False      False   False     False\n",
      "9867  False  False   False     False      False   False     False\n",
      "\n",
      "[9868 rows x 7 columns]\n"
     ]
    }
   ],
   "source": [
    "missing_data = clientes.isna()\n",
    "print(missing_data)"
   ]
  },
  {
   "cell_type": "code",
   "execution_count": 14,
   "metadata": {},
   "outputs": [
    {
     "name": "stdout",
     "output_type": "stream",
     "text": [
      "Conteo de datos faltantes por columna:\n",
      " #               0\n",
      "ID              0\n",
      "Nombre          9\n",
      "Telefono      153\n",
      "Direccion     350\n",
      "Correo       9574\n",
      "Whatsapp      159\n",
      "dtype: int64\n"
     ]
    }
   ],
   "source": [
    "missing_data_count = clientes.isna().sum()\n",
    "print('Conteo de datos faltantes por columna:\\n',missing_data_count )"
   ]
  },
  {
   "cell_type": "code",
   "execution_count": 15,
   "metadata": {},
   "outputs": [
    {
     "name": "stdout",
     "output_type": "stream",
     "text": [
      "Filas donde la columna 'Nombre' tiene valores faltantes:\n",
      "          #          ID Nombre    Telefono Direccion Correo      Whatsapp\n",
      "992    993  1007385136    NaN         NaN       NaN    NaN           NaN\n",
      "2218  2219   110663219    NaN         NaN       NaN    NaN           NaN\n",
      "2438  2439     1110118    NaN         NaN       NaN    NaN           NaN\n",
      "3248  3249  1110503524    NaN         NaN       NaN    NaN           NaN\n",
      "6115  6116   285588281    NaN         NaN       NaN    NaN           NaN\n",
      "6465  6466  3142640021    NaN  3142640021       NaN    NaN  573142640021\n",
      "7173  7174   383600778    NaN         NaN       NaN    NaN           NaN\n",
      "8099  8100    65634064    NaN         NaN       NaN    NaN           NaN\n",
      "8838  8839    65766101    NaN         NaN       NaN    NaN           NaN\n"
     ]
    }
   ],
   "source": [
    "#import pandas as pd\n",
    "\n",
    "# Suponiendo que ya tienes tu DataFrame 'clientes' cargado\n",
    "\n",
    "# 1. Crear una máscara booleana para identificar las filas donde 'Nombre' es nulo\n",
    "filas_nombre_nulo = clientes['Nombre'].isna()\n",
    "\n",
    "# 2. Utilizar la máscara booleana para seleccionar las filas del DataFrame\n",
    "datos_faltantes_nombre = clientes[filas_nombre_nulo]\n",
    "\n",
    "# 3. Imprimir el DataFrame resultante con las filas donde 'Nombre' es nulo\n",
    "print(\"Filas donde la columna 'Nombre' tiene valores faltantes:\\n\", datos_faltantes_nombre)"
   ]
  },
  {
   "cell_type": "code",
   "execution_count": null,
   "metadata": {},
   "outputs": [],
   "source": []
  }
 ],
 "metadata": {
  "kernelspec": {
   "display_name": "Python 3",
   "language": "python",
   "name": "python3"
  },
  "language_info": {
   "codemirror_mode": {
    "name": "ipython",
    "version": 3
   },
   "file_extension": ".py",
   "mimetype": "text/x-python",
   "name": "python",
   "nbconvert_exporter": "python",
   "pygments_lexer": "ipython3",
   "version": "3.13.1"
  }
 },
 "nbformat": 4,
 "nbformat_minor": 2
}
